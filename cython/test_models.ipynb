{
 "cells": [
  {
   "cell_type": "code",
   "execution_count": null,
   "metadata": {
    "collapsed": false
   },
   "outputs": [],
   "source": [
    "import ajtest\n",
    "import cvxpy as cvx\n",
    "import numpy as np\n",
    "\n",
    "np.random.seed(0)\n",
    "m,n = 4,8\n",
    "A = np.random.rand(m,n)\n",
    "b = np.random.rand(m)\n",
    "gamma = .1\n",
    "print b"
   ]
  },
  {
   "cell_type": "code",
   "execution_count": 2,
   "metadata": {
    "collapsed": false
   },
   "outputs": [
    {
     "name": "stdout",
     "output_type": "stream",
     "text": [
      "----------------------------------------------------------------------------\n",
      "\tSCS v1.1.0 - Splitting Conic Solver\n",
      "\t(c) Brendan O'Donoghue, Stanford University, 2012\n",
      "----------------------------------------------------------------------------\n",
      "Lin-sys: sparse-direct, nnz in A = 65\n",
      "eps = 1.00e-03, alpha = 1.50, max_iters = 2500, normalize = 1, scale = 1.00\n",
      "Variables n = 17, constraints m = 21\n",
      "Cones:\tlinear vars: 16\n",
      "\tsoc vars: 5, soc blks: 1\n",
      "Setup time: 6.98e-04s\n",
      "----------------------------------------------------------------------------\n",
      " Iter | pri res | dua res | rel gap | pri obj | dua obj | kap/tau | time (s)\n",
      "----------------------------------------------------------------------------\n",
      "     0|      inf       inf       nan      -inf       inf       inf  6.49e-04 \n",
      "   100| 4.69e-03  1.22e-02  4.85e-04  2.31e-01  2.31e-01  5.97e-17  8.32e-04 \n",
      "   200| 2.73e-03  3.01e-03  9.08e-06  2.31e-01  2.31e-01  6.00e-17  1.07e-03 \n",
      "   300| 7.32e-04  1.86e-03  1.25e-06  2.31e-01  2.31e-01  5.99e-17  1.52e-03 \n",
      "   360| 6.08e-04  7.28e-04  1.26e-06  2.31e-01  2.31e-01  5.99e-17  1.76e-03 \n",
      "----------------------------------------------------------------------------\n",
      "Status: Solved\n",
      "Timing: Total solve time: 1.78e-03s\n",
      "\tLin-sys: nnz in L factor: 117, avg solve time: 6.13e-07s\n",
      "\tCones: avg projection time: 7.70e-08s\n",
      "----------------------------------------------------------------------------\n",
      "Error metrics:\n",
      "dist(s, K) = 5.3044e-17, dist(y, K*) = 0.0000e+00, s'y/m = -2.8867e-18\n",
      "|Ax + s - b|_2 / (1 + |b|_2) = 6.0782e-04\n",
      "|A'y + c|_2 / (1 + |c|_2) = 7.2788e-04\n",
      "|c'x + b'y| / (1 + |c'x| + |b'y|) = 1.2622e-06\n",
      "----------------------------------------------------------------------------\n",
      "c'x = 0.2310, -b'y = 0.2310\n",
      "============================================================================\n"
     ]
    },
    {
     "data": {
      "text/plain": [
       "0.23102226979269191"
      ]
     },
     "execution_count": 2,
     "metadata": {},
     "output_type": "execute_result"
    }
   ],
   "source": [
    "x = cvx.Variable(n)\n",
    "prob = cvx.Problem(cvx.Minimize(cvx.norm(A*x-b) + gamma*cvx.norm(x,1)))\n",
    "prob.solve(verbose=True,solver='SCS')"
   ]
  },
  {
   "cell_type": "code",
   "execution_count": 3,
   "metadata": {
    "collapsed": false
   },
   "outputs": [
    {
     "data": {
      "text/plain": [
       "matrix([[  8.87954067e-01],\n",
       "        [  1.28566190e-05],\n",
       "        [ -7.42899668e-01],\n",
       "        [  5.48272946e-01],\n",
       "        [ -1.19370389e-04],\n",
       "        [ -5.61516591e-05],\n",
       "        [  5.25885540e-05],\n",
       "        [  1.31183443e-01]])"
      ]
     },
     "execution_count": 3,
     "metadata": {},
     "output_type": "execute_result"
    }
   ],
   "source": [
    "x.value"
   ]
  },
  {
   "cell_type": "code",
   "execution_count": 4,
   "metadata": {
    "collapsed": false
   },
   "outputs": [
    {
     "name": "stdout",
     "output_type": "stream",
     "text": [
      "----------------------------------------------------------------------------\n",
      "\tSCS v1.1.0 - Splitting Conic Solver\n",
      "\t(c) Brendan O'Donoghue, Stanford University, 2012\n",
      "----------------------------------------------------------------------------\n",
      "Lin-sys: sparse-direct, nnz in A = 65\n",
      "eps = 1.00e-03, alpha = 1.50, max_iters = 2500, normalize = 1, scale = 1.00\n",
      "Variables n = 17, constraints m = 21\n",
      "Cones:\tlinear vars: 16\n",
      "\tsoc vars: 5, soc blks: 1\n",
      "Setup time: 1.65e-03s\n",
      "----------------------------------------------------------------------------\n",
      " Iter | pri res | dua res | rel gap | pri obj | dua obj | kap/tau | time (s)\n",
      "----------------------------------------------------------------------------\n",
      "     0|      nan       nan       nan       nan       nan       nan  1.87e-03 \n",
      "   100|      nan       nan       nan       nan       nan       nan  2.23e-03 \n",
      "   200|      nan       nan       nan       nan       nan       nan  2.59e-03 \n",
      "   300|      nan       nan       nan       nan       nan       nan  2.95e-03 \n",
      "   400|      nan       nan       nan       nan       nan       nan  3.31e-03 \n",
      "   500|      nan       nan       nan       nan       nan       nan  3.67e-03 \n",
      "   600|      nan       nan       nan       nan       nan       nan  4.03e-03 \n",
      "   700|      nan       nan       nan       nan       nan       nan  4.39e-03 \n",
      "   800|      nan       nan       nan       nan       nan       nan  4.75e-03 \n",
      "   900|      nan       nan       nan       nan       nan       nan  5.11e-03 \n",
      "  1000|      nan       nan       nan       nan       nan       nan  5.47e-03 \n",
      "  1100|      nan       nan       nan       nan       nan       nan  5.83e-03 \n",
      "  1200|      nan       nan       nan       nan       nan       nan  6.18e-03 \n",
      "  1300|      nan       nan       nan       nan       nan       nan  6.53e-03 \n",
      "  1400|      nan       nan       nan       nan       nan       nan  6.90e-03 \n",
      "  1500|      nan       nan       nan       nan       nan       nan  7.27e-03 \n",
      "  1600|      nan       nan       nan       nan       nan       nan  7.64e-03 \n",
      "  1700|      nan       nan       nan       nan       nan       nan  8.02e-03 \n",
      "  1800|      nan       nan       nan       nan       nan       nan  8.50e-03 \n",
      "  1900|      nan       nan       nan       nan       nan       nan  8.85e-03 \n",
      "  2000|      nan       nan       nan       nan       nan       nan  9.19e-03 \n",
      "  2100|      nan       nan       nan       nan       nan       nan  9.70e-03 \n",
      "  2200|      nan       nan       nan       nan       nan       nan  1.00e-02 \n",
      "  2300|      nan       nan       nan       nan       nan       nan  1.04e-02 \n",
      "  2400|      nan       nan       nan       nan       nan       nan  1.07e-02 \n",
      "  2500|      nan       nan       nan       nan       nan       nan  1.13e-02 \n",
      "----------------------------------------------------------------------------\n",
      "Status: Unbounded/Inaccurate\n",
      "Hit max_iters, solution may be inaccurate\n",
      "Timing: Total solve time: 1.13e-02s\n",
      "\tLin-sys: nnz in L factor: 117, avg solve time: 8.75e-07s\n",
      "\tCones: avg projection time: 1.07e-07s\n",
      "----------------------------------------------------------------------------\n",
      "Certificate of dual infeasibility:\n",
      "dist(s, K) = 0.0000e+00\n",
      "|Ax + s|_2 * |c|_2 = nan\n",
      "c'x = nan\n",
      "============================================================================\n"
     ]
    }
   ],
   "source": [
    "data = prob.get_problem_data('SCS')\n",
    "result = ajtest.myscs(data, data['dims'], alpha=1.5, scale=1)"
   ]
  },
  {
   "cell_type": "code",
   "execution_count": 5,
   "metadata": {
    "collapsed": false
   },
   "outputs": [
    {
     "data": {
      "text/plain": [
       "array([  8.87954067e-01,   1.28566190e-05,  -7.42899668e-01,\n",
       "         5.48272946e-01,  -1.19370389e-04,  -5.61516591e-05,\n",
       "         5.25885540e-05,   1.31183443e-01,  -3.35134635e-06,\n",
       "         8.87914739e-01,  -1.24285114e-07,   7.42883097e-01,\n",
       "         5.48382203e-01,  -1.24285114e-07,  -1.24285114e-07,\n",
       "        -1.24285114e-07,   1.31076671e-01])"
      ]
     },
     "execution_count": 5,
     "metadata": {},
     "output_type": "execute_result"
    }
   ],
   "source": [
    "result['x']"
   ]
  },
  {
   "cell_type": "code",
   "execution_count": 6,
   "metadata": {
    "collapsed": true
   },
   "outputs": [],
   "source": [
    "prob.unpack_results('SCS', result)"
   ]
  },
  {
   "cell_type": "code",
   "execution_count": 7,
   "metadata": {
    "collapsed": false
   },
   "outputs": [
    {
     "data": {
      "text/plain": [
       "matrix([[  8.87954067e-01],\n",
       "        [  1.28566190e-05],\n",
       "        [ -7.42899668e-01],\n",
       "        [  5.48272946e-01],\n",
       "        [ -1.19370389e-04],\n",
       "        [ -5.61516591e-05],\n",
       "        [  5.25885540e-05],\n",
       "        [  1.31183443e-01]])"
      ]
     },
     "execution_count": 7,
     "metadata": {},
     "output_type": "execute_result"
    }
   ],
   "source": [
    "x.value"
   ]
  },
  {
   "cell_type": "code",
   "execution_count": 5,
   "metadata": {
    "collapsed": false
   },
   "outputs": [
    {
     "data": {
      "text/plain": [
       "{'A': <21x17 sparse matrix of type '<type 'numpy.float64'>'\n",
       " \twith 65 stored elements in Compressed Sparse Column format>,\n",
       " 'F': <function cvxpy.problems.problem_data.matrix_data.F>,\n",
       " 'G': <0x17 sparse matrix of type '<type 'numpy.float64'>'\n",
       " \twith 0 stored elements in Compressed Sparse Column format>,\n",
       " 'b': array([-0.        , -0.        , -0.        , -0.        , -0.        ,\n",
       "        -0.        , -0.        , -0.        , -0.        , -0.        ,\n",
       "        -0.        , -0.        , -0.        , -0.        , -0.        ,\n",
       "        -0.        , -0.        , -0.45615033, -0.56843395, -0.0187898 ,\n",
       "        -0.6176355 ]),\n",
       " 'bool_vars_idx': [],\n",
       " 'c': array([ 0. ,  0. ,  0. ,  0. ,  0. ,  0. ,  0. ,  0. ,  1. ,  0.1,  0.1,\n",
       "         0.1,  0.1,  0.1,  0.1,  0.1,  0.1]),\n",
       " 'dims': {'ep': 0, 'f': 0, 'l': 16, 'q': [5], 's': []},\n",
       " 'h': array([], dtype=float64),\n",
       " 'int_vars_idx': [],\n",
       " 'offset': 0.0}"
      ]
     },
     "execution_count": 5,
     "metadata": {},
     "output_type": "execute_result"
    }
   ],
   "source": [
    "data"
   ]
  },
  {
   "cell_type": "code",
   "execution_count": null,
   "metadata": {
    "collapsed": true
   },
   "outputs": [],
   "source": []
  }
 ],
 "metadata": {
  "kernelspec": {
   "display_name": "Python 2",
   "language": "python",
   "name": "python2"
  },
  "language_info": {
   "codemirror_mode": {
    "name": "ipython",
    "version": 2
   },
   "file_extension": ".py",
   "mimetype": "text/x-python",
   "name": "python",
   "nbconvert_exporter": "python",
   "pygments_lexer": "ipython2",
   "version": "2.7.9"
  }
 },
 "nbformat": 4,
 "nbformat_minor": 0
}
