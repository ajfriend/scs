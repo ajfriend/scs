{
 "cells": [
  {
   "cell_type": "code",
   "execution_count": 10,
   "metadata": {
    "collapsed": false
   },
   "outputs": [],
   "source": [
    "%load_ext Cython"
   ]
  },
  {
   "cell_type": "code",
   "execution_count": 21,
   "metadata": {
    "collapsed": false
   },
   "outputs": [],
   "source": [
    "%%cython\n",
    "\n",
    "cdef int fib(int n):\n",
    "    if n in (0,1):\n",
    "        return n\n",
    "    else:\n",
    "        return fib(n-1) + fib(n-2)\n",
    "\n",
    "cdef int * test():\n",
    "    cdef int *a = [1,2,3]\n",
    "    print a[1]\n",
    "    return a\n",
    "    \n",
    "def wrapper():\n",
    "    a = test()\n",
    "    cdef int *b = [11,21,31]\n",
    "    \n",
    "    c = fib(200)\n",
    "    \n",
    "    \n",
    "    print a[1]"
   ]
  },
  {
   "cell_type": "code",
   "execution_count": 28,
   "metadata": {
    "collapsed": false
   },
   "outputs": [
    {
     "data": {
      "text/plain": [
       "dtype('float64')"
      ]
     },
     "execution_count": 28,
     "metadata": {},
     "output_type": "execute_result"
    }
   ],
   "source": [
    "import numpy as np\n",
    "np.zeros(3).dtype"
   ]
  },
  {
   "cell_type": "code",
   "execution_count": 62,
   "metadata": {
    "collapsed": false
   },
   "outputs": [
    {
     "data": {
      "text/plain": [
       "<read-write buffer for 0x108c4d670, size 32, offset 0 at 0x1091994b0>"
      ]
     },
     "execution_count": 62,
     "metadata": {},
     "output_type": "execute_result"
    }
   ],
   "source": [
    "import numpy as np\n",
    "import scipy.sparse as sp\n",
    "\n",
    "\n",
    "ij = np.array([[0,1,2,3],[0,1,2,3]])\n",
    "A = sp.csc_matrix(([-1.,-1.,1.,1.], ij), (4,4))\n",
    "\n",
    "A.data.data"
   ]
  },
  {
   "cell_type": "code",
   "execution_count": 18,
   "metadata": {
    "collapsed": false
   },
   "outputs": [],
   "source": [
    "%%cython\n",
    "\n",
    "from cpython.mem cimport PyMem_Malloc, PyMem_Free\n",
    "\n",
    "ctypedef struct mything:\n",
    "    double * a\n",
    "    double * b\n",
    "    \n",
    "cdef double * avg(mything x, int n):\n",
    "    z = <double *>PyMem_Malloc(sizeof(double)*n)\n",
    "    \n",
    "    cdef int i\n",
    "    for i in range(n):\n",
    "        z[i] = (x.a[i] + x.b[i])/2.0\n",
    "    return z\n",
    "    # try this. treat it like a c library\n",
    "    # who conrols the memory returned?\n",
    "    # time some things. whats the fastest with a large numpy array?\n",
    "    # is the x.a dereferencing slow? or does cython take care of it?\n",
    "    # whats going on with z? is it pass by value or pass by reference?\n",
    "\n",
    "\n",
    "cdef mything convert(double[:] arr):\n",
    "    cdef mything x = mything(&arr[0], &arr[0])\n",
    "    return x\n",
    "\n",
    "def wrapper(arr):\n",
    "    x = convert(arr)\n",
    "    print x.a[0]"
   ]
  },
  {
   "cell_type": "code",
   "execution_count": 13,
   "metadata": {
    "collapsed": false
   },
   "outputs": [],
   "source": [
    "import numpy as np\n",
    "arr = np.random.rand(4)"
   ]
  },
  {
   "cell_type": "code",
   "execution_count": 14,
   "metadata": {
    "collapsed": false
   },
   "outputs": [
    {
     "data": {
      "text/plain": [
       "array([ 0.19410064,  0.36458607,  0.41343647,  0.64890736])"
      ]
     },
     "execution_count": 14,
     "metadata": {},
     "output_type": "execute_result"
    }
   ],
   "source": [
    "arr"
   ]
  },
  {
   "cell_type": "code",
   "execution_count": 15,
   "metadata": {
    "collapsed": false
   },
   "outputs": [
    {
     "name": "stdout",
     "output_type": "stream",
     "text": [
      "0.194100635771\n"
     ]
    }
   ],
   "source": [
    "wrapper(arr)"
   ]
  },
  {
   "cell_type": "markdown",
   "metadata": {},
   "source": [
    "# types\n",
    "- cython types, floats, doubles mismatch? do we do type-checking/dispatch at the interface level?\n",
    "- int vs float?\n",
    "\n",
    "# scope\n",
    "- how does scope work in cython\n",
    "- things formed on the stack can be returned in functions?\n",
    "- those objects live on?\n",
    "- how do they live on if they are stack variables?\n",
    "\n",
    "# conversion\n",
    "- take in two numpy arrays, enter into struct of two float *s\n",
    "- return a float * answer, which we wrap to a numpy array\n",
    "- who cleans up?\n",
    "- take three numpy arrays, write avg of two into the third."
   ]
  },
  {
   "cell_type": "code",
   "execution_count": null,
   "metadata": {
    "collapsed": true
   },
   "outputs": [],
   "source": []
  }
 ],
 "metadata": {
  "kernelspec": {
   "display_name": "Python 2",
   "language": "python",
   "name": "python2"
  },
  "language_info": {
   "codemirror_mode": {
    "name": "ipython",
    "version": 2
   },
   "file_extension": ".py",
   "mimetype": "text/x-python",
   "name": "python",
   "nbconvert_exporter": "python",
   "pygments_lexer": "ipython2",
   "version": "2.7.9"
  }
 },
 "nbformat": 4,
 "nbformat_minor": 0
}
